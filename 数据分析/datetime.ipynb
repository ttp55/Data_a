{
 "cells": [
  {
   "cell_type": "code",
   "execution_count": 1,
   "id": "78f7a1db",
   "metadata": {},
   "outputs": [],
   "source": [
    "import numpy as np\n",
    "import pandas as pd\n",
    "from pandas import Series, DataFrame"
   ]
  },
  {
   "cell_type": "code",
   "execution_count": 2,
   "id": "f406a1a4",
   "metadata": {},
   "outputs": [],
   "source": [
    "from datetime import datetime\n",
    "t1 = datetime(2009,10,20)"
   ]
  },
  {
   "cell_type": "code",
   "execution_count": 3,
   "id": "f45ea802",
   "metadata": {},
   "outputs": [
    {
     "data": {
      "text/plain": [
       "datetime.datetime(2009, 10, 20, 0, 0)"
      ]
     },
     "execution_count": 3,
     "metadata": {},
     "output_type": "execute_result"
    }
   ],
   "source": [
    "t1"
   ]
  },
  {
   "cell_type": "code",
   "execution_count": 4,
   "id": "31989df5",
   "metadata": {},
   "outputs": [],
   "source": [
    "date_list = [\n",
    "    datetime(2016,9,1),\n",
    "    datetime(2016,9,10),\n",
    "    datetime(2009,9,1),\n",
    "    datetime(2009,9,20),\n",
    "    datetime(2017,10,1)\n",
    "]"
   ]
  },
  {
   "cell_type": "code",
   "execution_count": 5,
   "id": "1d0687a0",
   "metadata": {},
   "outputs": [
    {
     "data": {
      "text/plain": [
       "[datetime.datetime(2016, 9, 1, 0, 0),\n",
       " datetime.datetime(2016, 9, 10, 0, 0),\n",
       " datetime.datetime(2009, 9, 1, 0, 0),\n",
       " datetime.datetime(2009, 9, 20, 0, 0),\n",
       " datetime.datetime(2017, 10, 1, 0, 0)]"
      ]
     },
     "execution_count": 5,
     "metadata": {},
     "output_type": "execute_result"
    }
   ],
   "source": [
    "date_list"
   ]
  },
  {
   "cell_type": "code",
   "execution_count": 6,
   "id": "29672248",
   "metadata": {},
   "outputs": [],
   "source": [
    "s1 = Series(np.random.rand(5), index=date_list)"
   ]
  },
  {
   "cell_type": "code",
   "execution_count": 7,
   "id": "9e85215c",
   "metadata": {},
   "outputs": [
    {
     "data": {
      "text/plain": [
       "2016-09-01    0.116480\n",
       "2016-09-10    0.428891\n",
       "2009-09-01    0.587630\n",
       "2009-09-20    0.198008\n",
       "2017-10-01    0.162045\n",
       "dtype: float64"
      ]
     },
     "execution_count": 7,
     "metadata": {},
     "output_type": "execute_result"
    }
   ],
   "source": [
    "s1"
   ]
  },
  {
   "cell_type": "code",
   "execution_count": 8,
   "id": "271d61d2",
   "metadata": {},
   "outputs": [
    {
     "data": {
      "text/plain": [
       "array([0.11647981, 0.42889111, 0.58763013, 0.19800776, 0.16204528])"
      ]
     },
     "execution_count": 8,
     "metadata": {},
     "output_type": "execute_result"
    }
   ],
   "source": [
    "s1.values"
   ]
  },
  {
   "cell_type": "code",
   "execution_count": 9,
   "id": "645ede82",
   "metadata": {},
   "outputs": [
    {
     "data": {
      "text/plain": [
       "DatetimeIndex(['2016-09-01', '2016-09-10', '2009-09-01', '2009-09-20',\n",
       "               '2017-10-01'],\n",
       "              dtype='datetime64[ns]', freq=None)"
      ]
     },
     "execution_count": 9,
     "metadata": {},
     "output_type": "execute_result"
    }
   ],
   "source": [
    "s1.index"
   ]
  },
  {
   "cell_type": "code",
   "execution_count": 10,
   "id": "29075628",
   "metadata": {},
   "outputs": [
    {
     "data": {
      "text/plain": [
       "0.42889110799959396"
      ]
     },
     "execution_count": 10,
     "metadata": {},
     "output_type": "execute_result"
    }
   ],
   "source": [
    "s1[1]"
   ]
  },
  {
   "cell_type": "code",
   "execution_count": 11,
   "id": "706c6774",
   "metadata": {},
   "outputs": [
    {
     "data": {
      "text/plain": [
       "0.42889110799959396"
      ]
     },
     "execution_count": 11,
     "metadata": {},
     "output_type": "execute_result"
    }
   ],
   "source": [
    "s1[datetime(2016,9,10)]"
   ]
  },
  {
   "cell_type": "code",
   "execution_count": 12,
   "id": "4774b3c9",
   "metadata": {},
   "outputs": [
    {
     "data": {
      "text/plain": [
       "2016-09-10    0.428891\n",
       "dtype: float64"
      ]
     },
     "execution_count": 12,
     "metadata": {},
     "output_type": "execute_result"
    }
   ],
   "source": [
    "s1['2016-09-10']"
   ]
  },
  {
   "cell_type": "code",
   "execution_count": 13,
   "id": "f962714c",
   "metadata": {},
   "outputs": [
    {
     "data": {
      "text/plain": [
       "2016-09-10    0.428891\n",
       "dtype: float64"
      ]
     },
     "execution_count": 13,
     "metadata": {},
     "output_type": "execute_result"
    }
   ],
   "source": [
    "s1['20160910']"
   ]
  },
  {
   "cell_type": "code",
   "execution_count": 16,
   "id": "d1625792",
   "metadata": {},
   "outputs": [
    {
     "data": {
      "text/plain": [
       "2016-09-01    0.116480\n",
       "2016-09-10    0.428891\n",
       "dtype: float64"
      ]
     },
     "execution_count": 16,
     "metadata": {},
     "output_type": "execute_result"
    }
   ],
   "source": [
    "s1['2016-09']"
   ]
  },
  {
   "cell_type": "code",
   "execution_count": 17,
   "id": "70a7accc",
   "metadata": {},
   "outputs": [
    {
     "data": {
      "text/plain": [
       "2016-09-01    0.116480\n",
       "2016-09-10    0.428891\n",
       "dtype: float64"
      ]
     },
     "execution_count": 17,
     "metadata": {},
     "output_type": "execute_result"
    }
   ],
   "source": [
    "s1['2016']"
   ]
  },
  {
   "cell_type": "code",
   "execution_count": 41,
   "id": "907413d1",
   "metadata": {},
   "outputs": [],
   "source": [
    "date_list_new = pd.date_range(start='20200908' ,periods=20, freq='W-MON')#periods 时间间隔 freq 按周算MON为从周一开始  freq='H',按小时算，还可以freq='5H'"
   ]
  },
  {
   "cell_type": "code",
   "execution_count": 42,
   "id": "b67fc6e4",
   "metadata": {},
   "outputs": [
    {
     "data": {
      "text/plain": [
       "DatetimeIndex(['2020-09-14', '2020-09-21', '2020-09-28', '2020-10-05',\n",
       "               '2020-10-12', '2020-10-19', '2020-10-26', '2020-11-02',\n",
       "               '2020-11-09', '2020-11-16', '2020-11-23', '2020-11-30',\n",
       "               '2020-12-07', '2020-12-14', '2020-12-21', '2020-12-28',\n",
       "               '2021-01-04', '2021-01-11', '2021-01-18', '2021-01-25'],\n",
       "              dtype='datetime64[ns]', freq='W-MON')"
      ]
     },
     "execution_count": 42,
     "metadata": {},
     "output_type": "execute_result"
    }
   ],
   "source": [
    "date_list_new"
   ]
  },
  {
   "cell_type": "code",
   "execution_count": 39,
   "id": "08ac9181",
   "metadata": {},
   "outputs": [],
   "source": [
    "s2 = Series(np.random.rand(20), index=date_list_new)"
   ]
  },
  {
   "cell_type": "code",
   "execution_count": 40,
   "id": "8f40ae4b",
   "metadata": {
    "scrolled": true
   },
   "outputs": [
    {
     "data": {
      "text/plain": [
       "2020-09-14    0.983355\n",
       "2020-09-21    0.440729\n",
       "2020-09-28    0.493395\n",
       "2020-10-05    0.354159\n",
       "2020-10-12    0.527437\n",
       "2020-10-19    0.232349\n",
       "2020-10-26    0.613149\n",
       "2020-11-02    0.786430\n",
       "2020-11-09    0.465412\n",
       "2020-11-16    0.101102\n",
       "2020-11-23    0.551351\n",
       "2020-11-30    0.498012\n",
       "2020-12-07    0.085961\n",
       "2020-12-14    0.533462\n",
       "2020-12-21    0.759009\n",
       "2020-12-28    0.480742\n",
       "2021-01-04    0.973708\n",
       "2021-01-11    0.043905\n",
       "2021-01-18    0.817741\n",
       "2021-01-25    0.387796\n",
       "Freq: W-MON, dtype: float64"
      ]
     },
     "execution_count": 40,
     "metadata": {},
     "output_type": "execute_result"
    }
   ],
   "source": [
    "s2"
   ]
  },
  {
   "cell_type": "code",
   "execution_count": null,
   "id": "c85cfecf",
   "metadata": {},
   "outputs": [],
   "source": []
  }
 ],
 "metadata": {
  "kernelspec": {
   "display_name": "Python 3",
   "language": "python",
   "name": "python3"
  },
  "language_info": {
   "codemirror_mode": {
    "name": "ipython",
    "version": 3
   },
   "file_extension": ".py",
   "mimetype": "text/x-python",
   "name": "python",
   "nbconvert_exporter": "python",
   "pygments_lexer": "ipython3",
   "version": "3.8.8"
  }
 },
 "nbformat": 4,
 "nbformat_minor": 5
}
