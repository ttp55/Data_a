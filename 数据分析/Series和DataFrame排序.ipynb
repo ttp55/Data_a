{
 "cells": [
  {
   "cell_type": "code",
   "execution_count": 1,
   "id": "29432f69",
   "metadata": {},
   "outputs": [],
   "source": [
    "import numpy as np\n",
    "import pandas as pd\n",
    "from pandas import Series, DataFrame"
   ]
  },
  {
   "cell_type": "code",
   "execution_count": 3,
   "id": "94087bec",
   "metadata": {},
   "outputs": [],
   "source": [
    "s1 = Series(np.random.randn(10))"
   ]
  },
  {
   "cell_type": "code",
   "execution_count": 4,
   "id": "8c39dc0f",
   "metadata": {},
   "outputs": [
    {
     "data": {
      "text/plain": [
       "array([-0.47289334, -0.34062854, -1.01925025, -0.65557889, -0.72627823,\n",
       "       -0.02314329,  1.38521844, -1.31371664, -0.4861429 , -0.23499866])"
      ]
     },
     "execution_count": 4,
     "metadata": {},
     "output_type": "execute_result"
    }
   ],
   "source": [
    "s1.values"
   ]
  },
  {
   "cell_type": "code",
   "execution_count": 5,
   "id": "0d2b1c8c",
   "metadata": {},
   "outputs": [
    {
     "data": {
      "text/plain": [
       "RangeIndex(start=0, stop=10, step=1)"
      ]
     },
     "execution_count": 5,
     "metadata": {},
     "output_type": "execute_result"
    }
   ],
   "source": [
    "s1.index"
   ]
  },
  {
   "cell_type": "code",
   "execution_count": 10,
   "id": "7abb66e9",
   "metadata": {},
   "outputs": [],
   "source": [
    "s2 = s1.sort_values(ascending=False)#降序"
   ]
  },
  {
   "cell_type": "code",
   "execution_count": 11,
   "id": "52f5c807",
   "metadata": {},
   "outputs": [
    {
     "data": {
      "text/plain": [
       "6    1.385218\n",
       "5   -0.023143\n",
       "9   -0.234999\n",
       "1   -0.340629\n",
       "0   -0.472893\n",
       "8   -0.486143\n",
       "3   -0.655579\n",
       "4   -0.726278\n",
       "2   -1.019250\n",
       "7   -1.313717\n",
       "dtype: float64"
      ]
     },
     "execution_count": 11,
     "metadata": {},
     "output_type": "execute_result"
    }
   ],
   "source": [
    "s2"
   ]
  },
  {
   "cell_type": "code",
   "execution_count": 12,
   "id": "eb598750",
   "metadata": {},
   "outputs": [
    {
     "data": {
      "text/plain": [
       "0   -0.472893\n",
       "1   -0.340629\n",
       "2   -1.019250\n",
       "3   -0.655579\n",
       "4   -0.726278\n",
       "5   -0.023143\n",
       "6    1.385218\n",
       "7   -1.313717\n",
       "8   -0.486143\n",
       "9   -0.234999\n",
       "dtype: float64"
      ]
     },
     "execution_count": 12,
     "metadata": {},
     "output_type": "execute_result"
    }
   ],
   "source": [
    "s2.sort_index()"
   ]
  },
  {
   "cell_type": "code",
   "execution_count": 13,
   "id": "b9e6ee90",
   "metadata": {},
   "outputs": [],
   "source": [
    "df1 = DataFrame(np.random.randn(40).reshape(8,5), columns=['A','B', 'C', 'D', 'E'])"
   ]
  },
  {
   "cell_type": "code",
   "execution_count": 14,
   "id": "83e7ad41",
   "metadata": {},
   "outputs": [
    {
     "data": {
      "text/html": [
       "<div>\n",
       "<style scoped>\n",
       "    .dataframe tbody tr th:only-of-type {\n",
       "        vertical-align: middle;\n",
       "    }\n",
       "\n",
       "    .dataframe tbody tr th {\n",
       "        vertical-align: top;\n",
       "    }\n",
       "\n",
       "    .dataframe thead th {\n",
       "        text-align: right;\n",
       "    }\n",
       "</style>\n",
       "<table border=\"1\" class=\"dataframe\">\n",
       "  <thead>\n",
       "    <tr style=\"text-align: right;\">\n",
       "      <th></th>\n",
       "      <th>A</th>\n",
       "      <th>B</th>\n",
       "      <th>C</th>\n",
       "      <th>D</th>\n",
       "      <th>E</th>\n",
       "    </tr>\n",
       "  </thead>\n",
       "  <tbody>\n",
       "    <tr>\n",
       "      <th>0</th>\n",
       "      <td>0.421007</td>\n",
       "      <td>-1.980281</td>\n",
       "      <td>2.580532</td>\n",
       "      <td>-1.795659</td>\n",
       "      <td>0.288803</td>\n",
       "    </tr>\n",
       "    <tr>\n",
       "      <th>1</th>\n",
       "      <td>-0.068835</td>\n",
       "      <td>-1.904696</td>\n",
       "      <td>0.278101</td>\n",
       "      <td>-1.486063</td>\n",
       "      <td>-0.233512</td>\n",
       "    </tr>\n",
       "    <tr>\n",
       "      <th>2</th>\n",
       "      <td>-1.928288</td>\n",
       "      <td>-0.623859</td>\n",
       "      <td>0.506582</td>\n",
       "      <td>-0.852060</td>\n",
       "      <td>0.552435</td>\n",
       "    </tr>\n",
       "    <tr>\n",
       "      <th>3</th>\n",
       "      <td>2.076780</td>\n",
       "      <td>-0.207687</td>\n",
       "      <td>0.569810</td>\n",
       "      <td>-1.023417</td>\n",
       "      <td>-1.129966</td>\n",
       "    </tr>\n",
       "    <tr>\n",
       "      <th>4</th>\n",
       "      <td>-1.247494</td>\n",
       "      <td>-0.056285</td>\n",
       "      <td>-1.918047</td>\n",
       "      <td>-2.540550</td>\n",
       "      <td>-0.601762</td>\n",
       "    </tr>\n",
       "    <tr>\n",
       "      <th>5</th>\n",
       "      <td>1.791862</td>\n",
       "      <td>0.354676</td>\n",
       "      <td>0.848059</td>\n",
       "      <td>-1.506133</td>\n",
       "      <td>0.194513</td>\n",
       "    </tr>\n",
       "    <tr>\n",
       "      <th>6</th>\n",
       "      <td>-0.691315</td>\n",
       "      <td>0.695398</td>\n",
       "      <td>0.013998</td>\n",
       "      <td>0.995504</td>\n",
       "      <td>-0.548791</td>\n",
       "    </tr>\n",
       "    <tr>\n",
       "      <th>7</th>\n",
       "      <td>-0.057494</td>\n",
       "      <td>0.228623</td>\n",
       "      <td>0.310669</td>\n",
       "      <td>-1.016313</td>\n",
       "      <td>1.160186</td>\n",
       "    </tr>\n",
       "  </tbody>\n",
       "</table>\n",
       "</div>"
      ],
      "text/plain": [
       "          A         B         C         D         E\n",
       "0  0.421007 -1.980281  2.580532 -1.795659  0.288803\n",
       "1 -0.068835 -1.904696  0.278101 -1.486063 -0.233512\n",
       "2 -1.928288 -0.623859  0.506582 -0.852060  0.552435\n",
       "3  2.076780 -0.207687  0.569810 -1.023417 -1.129966\n",
       "4 -1.247494 -0.056285 -1.918047 -2.540550 -0.601762\n",
       "5  1.791862  0.354676  0.848059 -1.506133  0.194513\n",
       "6 -0.691315  0.695398  0.013998  0.995504 -0.548791\n",
       "7 -0.057494  0.228623  0.310669 -1.016313  1.160186"
      ]
     },
     "execution_count": 14,
     "metadata": {},
     "output_type": "execute_result"
    }
   ],
   "source": [
    "df1"
   ]
  },
  {
   "cell_type": "code",
   "execution_count": 16,
   "id": "b1a47d96",
   "metadata": {},
   "outputs": [
    {
     "data": {
      "text/plain": [
       "2   -1.928288\n",
       "4   -1.247494\n",
       "6   -0.691315\n",
       "1   -0.068835\n",
       "7   -0.057494\n",
       "0    0.421007\n",
       "5    1.791862\n",
       "3    2.076780\n",
       "Name: A, dtype: float64"
      ]
     },
     "execution_count": 16,
     "metadata": {},
     "output_type": "execute_result"
    }
   ],
   "source": [
    "df1['A'].sort_values()"
   ]
  },
  {
   "cell_type": "code",
   "execution_count": 22,
   "id": "d5efb356",
   "metadata": {},
   "outputs": [],
   "source": [
    "df2 = df1.sort_values('A')#按A进行排序 "
   ]
  },
  {
   "cell_type": "code",
   "execution_count": 23,
   "id": "ff629745",
   "metadata": {},
   "outputs": [
    {
     "data": {
      "text/html": [
       "<div>\n",
       "<style scoped>\n",
       "    .dataframe tbody tr th:only-of-type {\n",
       "        vertical-align: middle;\n",
       "    }\n",
       "\n",
       "    .dataframe tbody tr th {\n",
       "        vertical-align: top;\n",
       "    }\n",
       "\n",
       "    .dataframe thead th {\n",
       "        text-align: right;\n",
       "    }\n",
       "</style>\n",
       "<table border=\"1\" class=\"dataframe\">\n",
       "  <thead>\n",
       "    <tr style=\"text-align: right;\">\n",
       "      <th></th>\n",
       "      <th>A</th>\n",
       "      <th>B</th>\n",
       "      <th>C</th>\n",
       "      <th>D</th>\n",
       "      <th>E</th>\n",
       "    </tr>\n",
       "  </thead>\n",
       "  <tbody>\n",
       "    <tr>\n",
       "      <th>0</th>\n",
       "      <td>0.421007</td>\n",
       "      <td>-1.980281</td>\n",
       "      <td>2.580532</td>\n",
       "      <td>-1.795659</td>\n",
       "      <td>0.288803</td>\n",
       "    </tr>\n",
       "    <tr>\n",
       "      <th>1</th>\n",
       "      <td>-0.068835</td>\n",
       "      <td>-1.904696</td>\n",
       "      <td>0.278101</td>\n",
       "      <td>-1.486063</td>\n",
       "      <td>-0.233512</td>\n",
       "    </tr>\n",
       "    <tr>\n",
       "      <th>2</th>\n",
       "      <td>-1.928288</td>\n",
       "      <td>-0.623859</td>\n",
       "      <td>0.506582</td>\n",
       "      <td>-0.852060</td>\n",
       "      <td>0.552435</td>\n",
       "    </tr>\n",
       "    <tr>\n",
       "      <th>3</th>\n",
       "      <td>2.076780</td>\n",
       "      <td>-0.207687</td>\n",
       "      <td>0.569810</td>\n",
       "      <td>-1.023417</td>\n",
       "      <td>-1.129966</td>\n",
       "    </tr>\n",
       "    <tr>\n",
       "      <th>4</th>\n",
       "      <td>-1.247494</td>\n",
       "      <td>-0.056285</td>\n",
       "      <td>-1.918047</td>\n",
       "      <td>-2.540550</td>\n",
       "      <td>-0.601762</td>\n",
       "    </tr>\n",
       "    <tr>\n",
       "      <th>5</th>\n",
       "      <td>1.791862</td>\n",
       "      <td>0.354676</td>\n",
       "      <td>0.848059</td>\n",
       "      <td>-1.506133</td>\n",
       "      <td>0.194513</td>\n",
       "    </tr>\n",
       "    <tr>\n",
       "      <th>6</th>\n",
       "      <td>-0.691315</td>\n",
       "      <td>0.695398</td>\n",
       "      <td>0.013998</td>\n",
       "      <td>0.995504</td>\n",
       "      <td>-0.548791</td>\n",
       "    </tr>\n",
       "    <tr>\n",
       "      <th>7</th>\n",
       "      <td>-0.057494</td>\n",
       "      <td>0.228623</td>\n",
       "      <td>0.310669</td>\n",
       "      <td>-1.016313</td>\n",
       "      <td>1.160186</td>\n",
       "    </tr>\n",
       "  </tbody>\n",
       "</table>\n",
       "</div>"
      ],
      "text/plain": [
       "          A         B         C         D         E\n",
       "0  0.421007 -1.980281  2.580532 -1.795659  0.288803\n",
       "1 -0.068835 -1.904696  0.278101 -1.486063 -0.233512\n",
       "2 -1.928288 -0.623859  0.506582 -0.852060  0.552435\n",
       "3  2.076780 -0.207687  0.569810 -1.023417 -1.129966\n",
       "4 -1.247494 -0.056285 -1.918047 -2.540550 -0.601762\n",
       "5  1.791862  0.354676  0.848059 -1.506133  0.194513\n",
       "6 -0.691315  0.695398  0.013998  0.995504 -0.548791\n",
       "7 -0.057494  0.228623  0.310669 -1.016313  1.160186"
      ]
     },
     "execution_count": 23,
     "metadata": {},
     "output_type": "execute_result"
    }
   ],
   "source": [
    "df2.sort_index()"
   ]
  },
  {
   "cell_type": "code",
   "execution_count": 24,
   "id": "5f8638cb",
   "metadata": {},
   "outputs": [
    {
     "data": {
      "text/html": [
       "<div>\n",
       "<style scoped>\n",
       "    .dataframe tbody tr th:only-of-type {\n",
       "        vertical-align: middle;\n",
       "    }\n",
       "\n",
       "    .dataframe tbody tr th {\n",
       "        vertical-align: top;\n",
       "    }\n",
       "\n",
       "    .dataframe thead th {\n",
       "        text-align: right;\n",
       "    }\n",
       "</style>\n",
       "<table border=\"1\" class=\"dataframe\">\n",
       "  <thead>\n",
       "    <tr style=\"text-align: right;\">\n",
       "      <th></th>\n",
       "      <th>A</th>\n",
       "      <th>B</th>\n",
       "      <th>C</th>\n",
       "      <th>D</th>\n",
       "      <th>E</th>\n",
       "    </tr>\n",
       "  </thead>\n",
       "  <tbody>\n",
       "    <tr>\n",
       "      <th>0</th>\n",
       "      <td>0.421007</td>\n",
       "      <td>-1.980281</td>\n",
       "      <td>2.580532</td>\n",
       "      <td>-1.795659</td>\n",
       "      <td>0.288803</td>\n",
       "    </tr>\n",
       "    <tr>\n",
       "      <th>1</th>\n",
       "      <td>-0.068835</td>\n",
       "      <td>-1.904696</td>\n",
       "      <td>0.278101</td>\n",
       "      <td>-1.486063</td>\n",
       "      <td>-0.233512</td>\n",
       "    </tr>\n",
       "    <tr>\n",
       "      <th>2</th>\n",
       "      <td>-1.928288</td>\n",
       "      <td>-0.623859</td>\n",
       "      <td>0.506582</td>\n",
       "      <td>-0.852060</td>\n",
       "      <td>0.552435</td>\n",
       "    </tr>\n",
       "    <tr>\n",
       "      <th>3</th>\n",
       "      <td>2.076780</td>\n",
       "      <td>-0.207687</td>\n",
       "      <td>0.569810</td>\n",
       "      <td>-1.023417</td>\n",
       "      <td>-1.129966</td>\n",
       "    </tr>\n",
       "    <tr>\n",
       "      <th>4</th>\n",
       "      <td>-1.247494</td>\n",
       "      <td>-0.056285</td>\n",
       "      <td>-1.918047</td>\n",
       "      <td>-2.540550</td>\n",
       "      <td>-0.601762</td>\n",
       "    </tr>\n",
       "    <tr>\n",
       "      <th>5</th>\n",
       "      <td>1.791862</td>\n",
       "      <td>0.354676</td>\n",
       "      <td>0.848059</td>\n",
       "      <td>-1.506133</td>\n",
       "      <td>0.194513</td>\n",
       "    </tr>\n",
       "    <tr>\n",
       "      <th>6</th>\n",
       "      <td>-0.691315</td>\n",
       "      <td>0.695398</td>\n",
       "      <td>0.013998</td>\n",
       "      <td>0.995504</td>\n",
       "      <td>-0.548791</td>\n",
       "    </tr>\n",
       "    <tr>\n",
       "      <th>7</th>\n",
       "      <td>-0.057494</td>\n",
       "      <td>0.228623</td>\n",
       "      <td>0.310669</td>\n",
       "      <td>-1.016313</td>\n",
       "      <td>1.160186</td>\n",
       "    </tr>\n",
       "  </tbody>\n",
       "</table>\n",
       "</div>"
      ],
      "text/plain": [
       "          A         B         C         D         E\n",
       "0  0.421007 -1.980281  2.580532 -1.795659  0.288803\n",
       "1 -0.068835 -1.904696  0.278101 -1.486063 -0.233512\n",
       "2 -1.928288 -0.623859  0.506582 -0.852060  0.552435\n",
       "3  2.076780 -0.207687  0.569810 -1.023417 -1.129966\n",
       "4 -1.247494 -0.056285 -1.918047 -2.540550 -0.601762\n",
       "5  1.791862  0.354676  0.848059 -1.506133  0.194513\n",
       "6 -0.691315  0.695398  0.013998  0.995504 -0.548791\n",
       "7 -0.057494  0.228623  0.310669 -1.016313  1.160186"
      ]
     },
     "execution_count": 24,
     "metadata": {},
     "output_type": "execute_result"
    }
   ],
   "source": [
    "df1"
   ]
  },
  {
   "cell_type": "code",
   "execution_count": null,
   "id": "2db8fe0a",
   "metadata": {},
   "outputs": [],
   "source": [
    " "
   ]
  }
 ],
 "metadata": {
  "kernelspec": {
   "display_name": "Python 3",
   "language": "python",
   "name": "python3"
  },
  "language_info": {
   "codemirror_mode": {
    "name": "ipython",
    "version": 3
   },
   "file_extension": ".py",
   "mimetype": "text/x-python",
   "name": "python",
   "nbconvert_exporter": "python",
   "pygments_lexer": "ipython3",
   "version": "3.8.8"
  }
 },
 "nbformat": 4,
 "nbformat_minor": 5
}
