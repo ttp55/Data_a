{
 "cells": [
  {
   "cell_type": "code",
   "execution_count": 1,
   "id": "0ac33fb3",
   "metadata": {},
   "outputs": [],
   "source": [
    "import numpy as np\n",
    "import pandas as pd\n",
    "from pandas import Series, DataFrame"
   ]
  },
  {
   "cell_type": "code",
   "execution_count": 4,
   "id": "6f3a7d85",
   "metadata": {},
   "outputs": [],
   "source": [
    "s1 = Series([1,2,3,4], index=['A','B','C','D'])#添加Series"
   ]
  },
  {
   "cell_type": "code",
   "execution_count": 5,
   "id": "e328100e",
   "metadata": {},
   "outputs": [
    {
     "data": {
      "text/plain": [
       "A    1.0\n",
       "B    2.0\n",
       "C    3.0\n",
       "D    4.0\n",
       "E    NaN\n",
       "dtype: float64"
      ]
     },
     "execution_count": 5,
     "metadata": {},
     "output_type": "execute_result"
    }
   ],
   "source": [
    "s1.reindex(index=['A','B','C','D','E'])# 利用reindex更改索引"
   ]
  },
  {
   "cell_type": "code",
   "execution_count": 6,
   "id": "14c12850",
   "metadata": {},
   "outputs": [
    {
     "data": {
      "text/plain": [
       "A     1\n",
       "B     2\n",
       "C     3\n",
       "D     4\n",
       "E    10\n",
       "dtype: int64"
      ]
     },
     "execution_count": 6,
     "metadata": {},
     "output_type": "execute_result"
    }
   ],
   "source": [
    "s1.reindex(index=['A','B','C','D','E'], fill_value=10)# 填充数据"
   ]
  },
  {
   "cell_type": "code",
   "execution_count": 11,
   "id": "64474738",
   "metadata": {},
   "outputs": [],
   "source": [
    "s2 = Series(['A','B','C'], index=[1,5,10])"
   ]
  },
  {
   "cell_type": "code",
   "execution_count": 14,
   "id": "ae8d4755",
   "metadata": {},
   "outputs": [
    {
     "data": {
      "text/plain": [
       "0     NaN\n",
       "1       A\n",
       "2     NaN\n",
       "3     NaN\n",
       "4     NaN\n",
       "5       B\n",
       "6     NaN\n",
       "7     NaN\n",
       "8     NaN\n",
       "9     NaN\n",
       "10      C\n",
       "11    NaN\n",
       "12    NaN\n",
       "13    NaN\n",
       "14    NaN\n",
       "dtype: object"
      ]
     },
     "execution_count": 14,
     "metadata": {},
     "output_type": "execute_result"
    }
   ],
   "source": [
    "s2.reindex(index=range(15))"
   ]
  },
  {
   "cell_type": "code",
   "execution_count": 15,
   "id": "8461e1dc",
   "metadata": {},
   "outputs": [
    {
     "data": {
      "text/plain": [
       "0     NaN\n",
       "1       A\n",
       "2       A\n",
       "3       A\n",
       "4       A\n",
       "5       B\n",
       "6       B\n",
       "7       B\n",
       "8       B\n",
       "9       B\n",
       "10      C\n",
       "11      C\n",
       "12      C\n",
       "13      C\n",
       "14      C\n",
       "dtype: object"
      ]
     },
     "execution_count": 15,
     "metadata": {},
     "output_type": "execute_result"
    }
   ],
   "source": [
    "s2.reindex(index=range(15), method='ffill')# 填充数据"
   ]
  },
  {
   "cell_type": "code",
   "execution_count": 26,
   "id": "e2faf0c2",
   "metadata": {},
   "outputs": [],
   "source": [
    "df1 = DataFrame(np.random.rand(25).reshape([5,5]),index=['A','B','D','E','F'], columns=['c1','c2','c3','c4','c5'])"
   ]
  },
  {
   "cell_type": "code",
   "execution_count": 28,
   "id": "6f6e3526",
   "metadata": {},
   "outputs": [
    {
     "data": {
      "text/html": [
       "<div>\n",
       "<style scoped>\n",
       "    .dataframe tbody tr th:only-of-type {\n",
       "        vertical-align: middle;\n",
       "    }\n",
       "\n",
       "    .dataframe tbody tr th {\n",
       "        vertical-align: top;\n",
       "    }\n",
       "\n",
       "    .dataframe thead th {\n",
       "        text-align: right;\n",
       "    }\n",
       "</style>\n",
       "<table border=\"1\" class=\"dataframe\">\n",
       "  <thead>\n",
       "    <tr style=\"text-align: right;\">\n",
       "      <th></th>\n",
       "      <th>c1</th>\n",
       "      <th>c2</th>\n",
       "      <th>c3</th>\n",
       "      <th>c4</th>\n",
       "      <th>c5</th>\n",
       "    </tr>\n",
       "  </thead>\n",
       "  <tbody>\n",
       "    <tr>\n",
       "      <th>A</th>\n",
       "      <td>0.277696</td>\n",
       "      <td>0.384604</td>\n",
       "      <td>0.453887</td>\n",
       "      <td>0.238608</td>\n",
       "      <td>0.156771</td>\n",
       "    </tr>\n",
       "    <tr>\n",
       "      <th>B</th>\n",
       "      <td>0.118221</td>\n",
       "      <td>0.924559</td>\n",
       "      <td>0.339854</td>\n",
       "      <td>0.570940</td>\n",
       "      <td>0.274046</td>\n",
       "    </tr>\n",
       "    <tr>\n",
       "      <th>C</th>\n",
       "      <td>NaN</td>\n",
       "      <td>NaN</td>\n",
       "      <td>NaN</td>\n",
       "      <td>NaN</td>\n",
       "      <td>NaN</td>\n",
       "    </tr>\n",
       "    <tr>\n",
       "      <th>D</th>\n",
       "      <td>0.106429</td>\n",
       "      <td>0.797250</td>\n",
       "      <td>0.291160</td>\n",
       "      <td>0.883435</td>\n",
       "      <td>0.665953</td>\n",
       "    </tr>\n",
       "    <tr>\n",
       "      <th>E</th>\n",
       "      <td>0.888210</td>\n",
       "      <td>0.326224</td>\n",
       "      <td>0.802597</td>\n",
       "      <td>0.879170</td>\n",
       "      <td>0.903715</td>\n",
       "    </tr>\n",
       "    <tr>\n",
       "      <th>F</th>\n",
       "      <td>0.720180</td>\n",
       "      <td>0.165509</td>\n",
       "      <td>0.397361</td>\n",
       "      <td>0.545626</td>\n",
       "      <td>0.549013</td>\n",
       "    </tr>\n",
       "  </tbody>\n",
       "</table>\n",
       "</div>"
      ],
      "text/plain": [
       "         c1        c2        c3        c4        c5\n",
       "A  0.277696  0.384604  0.453887  0.238608  0.156771\n",
       "B  0.118221  0.924559  0.339854  0.570940  0.274046\n",
       "C       NaN       NaN       NaN       NaN       NaN\n",
       "D  0.106429  0.797250  0.291160  0.883435  0.665953\n",
       "E  0.888210  0.326224  0.802597  0.879170  0.903715\n",
       "F  0.720180  0.165509  0.397361  0.545626  0.549013"
      ]
     },
     "execution_count": 28,
     "metadata": {},
     "output_type": "execute_result"
    }
   ],
   "source": [
    "df1.reindex(index=['A','B','C','D','E','F'])"
   ]
  },
  {
   "cell_type": "code",
   "execution_count": 29,
   "id": "e8eef1b6",
   "metadata": {},
   "outputs": [
    {
     "data": {
      "text/html": [
       "<div>\n",
       "<style scoped>\n",
       "    .dataframe tbody tr th:only-of-type {\n",
       "        vertical-align: middle;\n",
       "    }\n",
       "\n",
       "    .dataframe tbody tr th {\n",
       "        vertical-align: top;\n",
       "    }\n",
       "\n",
       "    .dataframe thead th {\n",
       "        text-align: right;\n",
       "    }\n",
       "</style>\n",
       "<table border=\"1\" class=\"dataframe\">\n",
       "  <thead>\n",
       "    <tr style=\"text-align: right;\">\n",
       "      <th></th>\n",
       "      <th>c1</th>\n",
       "      <th>c2</th>\n",
       "      <th>c3</th>\n",
       "      <th>c4</th>\n",
       "      <th>c5</th>\n",
       "      <th>c6</th>\n",
       "    </tr>\n",
       "  </thead>\n",
       "  <tbody>\n",
       "    <tr>\n",
       "      <th>A</th>\n",
       "      <td>0.277696</td>\n",
       "      <td>0.384604</td>\n",
       "      <td>0.453887</td>\n",
       "      <td>0.238608</td>\n",
       "      <td>0.156771</td>\n",
       "      <td>NaN</td>\n",
       "    </tr>\n",
       "    <tr>\n",
       "      <th>B</th>\n",
       "      <td>0.118221</td>\n",
       "      <td>0.924559</td>\n",
       "      <td>0.339854</td>\n",
       "      <td>0.570940</td>\n",
       "      <td>0.274046</td>\n",
       "      <td>NaN</td>\n",
       "    </tr>\n",
       "    <tr>\n",
       "      <th>D</th>\n",
       "      <td>0.106429</td>\n",
       "      <td>0.797250</td>\n",
       "      <td>0.291160</td>\n",
       "      <td>0.883435</td>\n",
       "      <td>0.665953</td>\n",
       "      <td>NaN</td>\n",
       "    </tr>\n",
       "    <tr>\n",
       "      <th>E</th>\n",
       "      <td>0.888210</td>\n",
       "      <td>0.326224</td>\n",
       "      <td>0.802597</td>\n",
       "      <td>0.879170</td>\n",
       "      <td>0.903715</td>\n",
       "      <td>NaN</td>\n",
       "    </tr>\n",
       "    <tr>\n",
       "      <th>F</th>\n",
       "      <td>0.720180</td>\n",
       "      <td>0.165509</td>\n",
       "      <td>0.397361</td>\n",
       "      <td>0.545626</td>\n",
       "      <td>0.549013</td>\n",
       "      <td>NaN</td>\n",
       "    </tr>\n",
       "  </tbody>\n",
       "</table>\n",
       "</div>"
      ],
      "text/plain": [
       "         c1        c2        c3        c4        c5  c6\n",
       "A  0.277696  0.384604  0.453887  0.238608  0.156771 NaN\n",
       "B  0.118221  0.924559  0.339854  0.570940  0.274046 NaN\n",
       "D  0.106429  0.797250  0.291160  0.883435  0.665953 NaN\n",
       "E  0.888210  0.326224  0.802597  0.879170  0.903715 NaN\n",
       "F  0.720180  0.165509  0.397361  0.545626  0.549013 NaN"
      ]
     },
     "execution_count": 29,
     "metadata": {},
     "output_type": "execute_result"
    }
   ],
   "source": [
    "df1.reindex(columns=['c1','c2','c3','c4','c5','c6'])"
   ]
  },
  {
   "cell_type": "code",
   "execution_count": 30,
   "id": "d7bf2b59",
   "metadata": {},
   "outputs": [
    {
     "data": {
      "text/html": [
       "<div>\n",
       "<style scoped>\n",
       "    .dataframe tbody tr th:only-of-type {\n",
       "        vertical-align: middle;\n",
       "    }\n",
       "\n",
       "    .dataframe tbody tr th {\n",
       "        vertical-align: top;\n",
       "    }\n",
       "\n",
       "    .dataframe thead th {\n",
       "        text-align: right;\n",
       "    }\n",
       "</style>\n",
       "<table border=\"1\" class=\"dataframe\">\n",
       "  <thead>\n",
       "    <tr style=\"text-align: right;\">\n",
       "      <th></th>\n",
       "      <th>c1</th>\n",
       "      <th>c2</th>\n",
       "      <th>c3</th>\n",
       "      <th>c4</th>\n",
       "      <th>c5</th>\n",
       "    </tr>\n",
       "  </thead>\n",
       "  <tbody>\n",
       "    <tr>\n",
       "      <th>A</th>\n",
       "      <td>0.277696</td>\n",
       "      <td>0.384604</td>\n",
       "      <td>0.453887</td>\n",
       "      <td>0.238608</td>\n",
       "      <td>0.156771</td>\n",
       "    </tr>\n",
       "    <tr>\n",
       "      <th>B</th>\n",
       "      <td>0.118221</td>\n",
       "      <td>0.924559</td>\n",
       "      <td>0.339854</td>\n",
       "      <td>0.570940</td>\n",
       "      <td>0.274046</td>\n",
       "    </tr>\n",
       "    <tr>\n",
       "      <th>D</th>\n",
       "      <td>0.106429</td>\n",
       "      <td>0.797250</td>\n",
       "      <td>0.291160</td>\n",
       "      <td>0.883435</td>\n",
       "      <td>0.665953</td>\n",
       "    </tr>\n",
       "    <tr>\n",
       "      <th>E</th>\n",
       "      <td>0.888210</td>\n",
       "      <td>0.326224</td>\n",
       "      <td>0.802597</td>\n",
       "      <td>0.879170</td>\n",
       "      <td>0.903715</td>\n",
       "    </tr>\n",
       "    <tr>\n",
       "      <th>F</th>\n",
       "      <td>0.720180</td>\n",
       "      <td>0.165509</td>\n",
       "      <td>0.397361</td>\n",
       "      <td>0.545626</td>\n",
       "      <td>0.549013</td>\n",
       "    </tr>\n",
       "  </tbody>\n",
       "</table>\n",
       "</div>"
      ],
      "text/plain": [
       "         c1        c2        c3        c4        c5\n",
       "A  0.277696  0.384604  0.453887  0.238608  0.156771\n",
       "B  0.118221  0.924559  0.339854  0.570940  0.274046\n",
       "D  0.106429  0.797250  0.291160  0.883435  0.665953\n",
       "E  0.888210  0.326224  0.802597  0.879170  0.903715\n",
       "F  0.720180  0.165509  0.397361  0.545626  0.549013"
      ]
     },
     "execution_count": 30,
     "metadata": {},
     "output_type": "execute_result"
    }
   ],
   "source": [
    "df1"
   ]
  },
  {
   "cell_type": "code",
   "execution_count": 31,
   "id": "e42d072b",
   "metadata": {},
   "outputs": [
    {
     "data": {
      "text/html": [
       "<div>\n",
       "<style scoped>\n",
       "    .dataframe tbody tr th:only-of-type {\n",
       "        vertical-align: middle;\n",
       "    }\n",
       "\n",
       "    .dataframe tbody tr th {\n",
       "        vertical-align: top;\n",
       "    }\n",
       "\n",
       "    .dataframe thead th {\n",
       "        text-align: right;\n",
       "    }\n",
       "</style>\n",
       "<table border=\"1\" class=\"dataframe\">\n",
       "  <thead>\n",
       "    <tr style=\"text-align: right;\">\n",
       "      <th></th>\n",
       "      <th>c1</th>\n",
       "      <th>c2</th>\n",
       "      <th>c3</th>\n",
       "      <th>c4</th>\n",
       "      <th>c5</th>\n",
       "    </tr>\n",
       "  </thead>\n",
       "  <tbody>\n",
       "    <tr>\n",
       "      <th>B</th>\n",
       "      <td>0.118221</td>\n",
       "      <td>0.924559</td>\n",
       "      <td>0.339854</td>\n",
       "      <td>0.570940</td>\n",
       "      <td>0.274046</td>\n",
       "    </tr>\n",
       "    <tr>\n",
       "      <th>D</th>\n",
       "      <td>0.106429</td>\n",
       "      <td>0.797250</td>\n",
       "      <td>0.291160</td>\n",
       "      <td>0.883435</td>\n",
       "      <td>0.665953</td>\n",
       "    </tr>\n",
       "    <tr>\n",
       "      <th>E</th>\n",
       "      <td>0.888210</td>\n",
       "      <td>0.326224</td>\n",
       "      <td>0.802597</td>\n",
       "      <td>0.879170</td>\n",
       "      <td>0.903715</td>\n",
       "    </tr>\n",
       "    <tr>\n",
       "      <th>F</th>\n",
       "      <td>0.720180</td>\n",
       "      <td>0.165509</td>\n",
       "      <td>0.397361</td>\n",
       "      <td>0.545626</td>\n",
       "      <td>0.549013</td>\n",
       "    </tr>\n",
       "  </tbody>\n",
       "</table>\n",
       "</div>"
      ],
      "text/plain": [
       "         c1        c2        c3        c4        c5\n",
       "B  0.118221  0.924559  0.339854  0.570940  0.274046\n",
       "D  0.106429  0.797250  0.291160  0.883435  0.665953\n",
       "E  0.888210  0.326224  0.802597  0.879170  0.903715\n",
       "F  0.720180  0.165509  0.397361  0.545626  0.549013"
      ]
     },
     "execution_count": 31,
     "metadata": {},
     "output_type": "execute_result"
    }
   ],
   "source": [
    "df1.drop('A', axis=0)# 删除行与列"
   ]
  },
  {
   "cell_type": "code",
   "execution_count": null,
   "id": "0f633951",
   "metadata": {},
   "outputs": [],
   "source": []
  }
 ],
 "metadata": {
  "kernelspec": {
   "display_name": "Python 3",
   "language": "python",
   "name": "python3"
  },
  "language_info": {
   "codemirror_mode": {
    "name": "ipython",
    "version": 3
   },
   "file_extension": ".py",
   "mimetype": "text/x-python",
   "name": "python",
   "nbconvert_exporter": "python",
   "pygments_lexer": "ipython3",
   "version": "3.8.8"
  }
 },
 "nbformat": 4,
 "nbformat_minor": 5
}
