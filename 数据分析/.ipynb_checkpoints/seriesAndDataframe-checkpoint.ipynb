{
 "cells": [
  {
   "cell_type": "code",
   "execution_count": 4,
   "id": "528a9305",
   "metadata": {},
   "outputs": [],
   "source": [
    "import numpy as np\n",
    "import pandas as pd\n",
    "from pandas import Series, DataFrame"
   ]
  },
  {
   "cell_type": "code",
   "execution_count": 6,
   "id": "e7a5f9e5",
   "metadata": {},
   "outputs": [],
   "source": [
    "data = {'Country':['Belgium', 'India', 'Brazil'],\n",
    "       'Capital':['Brussels', 'New Delhi', 'brasilia'],\n",
    "       'Population':[11156465, 65456413, 2342522]}"
   ]
  },
  {
   "cell_type": "code",
   "execution_count": 9,
   "id": "41bf7ccd",
   "metadata": {},
   "outputs": [],
   "source": [
    "s1 = pd.Series(data['Country'])"
   ]
  },
  {
   "cell_type": "code",
   "execution_count": null,
   "id": "99fd59ef",
   "metadata": {},
   "outputs": [],
   "source": []
  }
 ],
 "metadata": {
  "kernelspec": {
   "display_name": "Python 3",
   "language": "python",
   "name": "python3"
  },
  "language_info": {
   "codemirror_mode": {
    "name": "ipython",
    "version": 3
   },
   "file_extension": ".py",
   "mimetype": "text/x-python",
   "name": "python",
   "nbconvert_exporter": "python",
   "pygments_lexer": "ipython3",
   "version": "3.8.8"
  }
 },
 "nbformat": 4,
 "nbformat_minor": 5
}
