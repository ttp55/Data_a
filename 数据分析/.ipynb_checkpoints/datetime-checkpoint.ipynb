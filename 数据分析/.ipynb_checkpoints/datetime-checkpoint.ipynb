{
 "cells": [
  {
   "cell_type": "code",
   "execution_count": 1,
   "id": "2e3cb988",
   "metadata": {},
   "outputs": [],
   "source": [
    "import numpy as np\n",
    "import pandas as pd\n",
    "from pandas import Series, DataFrame"
   ]
  },
  {
   "cell_type": "code",
   "execution_count": 2,
   "id": "3d35ce8c",
   "metadata": {},
   "outputs": [],
   "source": [
    "from datetime import datetime\n",
    "t1 = datetime(2009,10,20)"
   ]
  },
  {
   "cell_type": "code",
   "execution_count": 3,
   "id": "02c25f42",
   "metadata": {},
   "outputs": [
    {
     "data": {
      "text/plain": [
       "datetime.datetime(2009, 10, 20, 0, 0)"
      ]
     },
     "execution_count": 3,
     "metadata": {},
     "output_type": "execute_result"
    }
   ],
   "source": [
    "t1"
   ]
  },
  {
   "cell_type": "code",
   "execution_count": 4,
   "id": "0c187eea",
   "metadata": {},
   "outputs": [],
   "source": [
    "date_list = [\n",
    "    datetime(2016,9,1),\n",
    "    datetime(2016,9,10),\n",
    "    datetime(2009,9,1),\n",
    "    datetime(2009,9,20),\n",
    "    datetime(2017,10,1)\n",
    "]"
   ]
  },
  {
   "cell_type": "code",
   "execution_count": 5,
   "id": "f4a2769f",
   "metadata": {},
   "outputs": [
    {
     "data": {
      "text/plain": [
       "[datetime.datetime(2016, 9, 1, 0, 0),\n",
       " datetime.datetime(2016, 9, 10, 0, 0),\n",
       " datetime.datetime(2009, 9, 1, 0, 0),\n",
       " datetime.datetime(2009, 9, 20, 0, 0),\n",
       " datetime.datetime(2017, 10, 1, 0, 0)]"
      ]
     },
     "execution_count": 5,
     "metadata": {},
     "output_type": "execute_result"
    }
   ],
   "source": [
    "date_list"
   ]
  },
  {
   "cell_type": "code",
   "execution_count": 6,
   "id": "fc07d444",
   "metadata": {},
   "outputs": [],
   "source": [
    "s1 = Series(np.random.rand(5), index=date_list)"
   ]
  },
  {
   "cell_type": "code",
   "execution_count": 7,
   "id": "474a057c",
   "metadata": {},
   "outputs": [
    {
     "data": {
      "text/plain": [
       "2016-09-01    0.116480\n",
       "2016-09-10    0.428891\n",
       "2009-09-01    0.587630\n",
       "2009-09-20    0.198008\n",
       "2017-10-01    0.162045\n",
       "dtype: float64"
      ]
     },
     "execution_count": 7,
     "metadata": {},
     "output_type": "execute_result"
    }
   ],
   "source": [
    "s1"
   ]
  },
  {
   "cell_type": "code",
   "execution_count": 8,
   "id": "9d47402f",
   "metadata": {},
   "outputs": [
    {
     "data": {
      "text/plain": [
       "array([0.11647981, 0.42889111, 0.58763013, 0.19800776, 0.16204528])"
      ]
     },
     "execution_count": 8,
     "metadata": {},
     "output_type": "execute_result"
    }
   ],
   "source": [
    "s1.values"
   ]
  },
  {
   "cell_type": "code",
   "execution_count": 9,
   "id": "49fce083",
   "metadata": {},
   "outputs": [
    {
     "data": {
      "text/plain": [
       "DatetimeIndex(['2016-09-01', '2016-09-10', '2009-09-01', '2009-09-20',\n",
       "               '2017-10-01'],\n",
       "              dtype='datetime64[ns]', freq=None)"
      ]
     },
     "execution_count": 9,
     "metadata": {},
     "output_type": "execute_result"
    }
   ],
   "source": [
    "s1.index"
   ]
  },
  {
   "cell_type": "code",
   "execution_count": 10,
   "id": "99f82396",
   "metadata": {},
   "outputs": [
    {
     "data": {
      "text/plain": [
       "0.42889110799959396"
      ]
     },
     "execution_count": 10,
     "metadata": {},
     "output_type": "execute_result"
    }
   ],
   "source": [
    "s1[1]"
   ]
  },
  {
   "cell_type": "code",
   "execution_count": 11,
   "id": "49cc827d",
   "metadata": {},
   "outputs": [
    {
     "data": {
      "text/plain": [
       "0.42889110799959396"
      ]
     },
     "execution_count": 11,
     "metadata": {},
     "output_type": "execute_result"
    }
   ],
   "source": [
    "s1[datetime(2016,9,10)]"
   ]
  },
  {
   "cell_type": "code",
   "execution_count": 12,
   "id": "2720cede",
   "metadata": {},
   "outputs": [
    {
     "data": {
      "text/plain": [
       "2016-09-10    0.428891\n",
       "dtype: float64"
      ]
     },
     "execution_count": 12,
     "metadata": {},
     "output_type": "execute_result"
    }
   ],
   "source": [
    "s1['2016-09-10']"
   ]
  },
  {
   "cell_type": "code",
   "execution_count": 13,
   "id": "e2d130e6",
   "metadata": {},
   "outputs": [
    {
     "data": {
      "text/plain": [
       "2016-09-10    0.428891\n",
       "dtype: float64"
      ]
     },
     "execution_count": 13,
     "metadata": {},
     "output_type": "execute_result"
    }
   ],
   "source": [
    "s1['20160910']"
   ]
  },
  {
   "cell_type": "code",
   "execution_count": 16,
   "id": "53c0122c",
   "metadata": {},
   "outputs": [
    {
     "data": {
      "text/plain": [
       "2016-09-01    0.116480\n",
       "2016-09-10    0.428891\n",
       "dtype: float64"
      ]
     },
     "execution_count": 16,
     "metadata": {},
     "output_type": "execute_result"
    }
   ],
   "source": [
    "s1['2016-09']"
   ]
  },
  {
   "cell_type": "code",
   "execution_count": 17,
   "id": "ca486180",
   "metadata": {},
   "outputs": [
    {
     "data": {
      "text/plain": [
       "2016-09-01    0.116480\n",
       "2016-09-10    0.428891\n",
       "dtype: float64"
      ]
     },
     "execution_count": 17,
     "metadata": {},
     "output_type": "execute_result"
    }
   ],
   "source": [
    "s1['2016']"
   ]
  },
  {
   "cell_type": "code",
   "execution_count": 37,
   "id": "28f0987c",
   "metadata": {},
   "outputs": [],
   "source": [
    "date_list_new = pd.date_range(start='20200908' ,periods=20, freq='W-MON')#periods 时间间隔 freq 按周算MON为从周一开始  freq='H',按小时算，还可以freq='5H'"
   ]
  },
  {
   "cell_type": "code",
   "execution_count": 34,
   "id": "7faf3f97",
   "metadata": {},
   "outputs": [
    {
     "data": {
      "text/plain": [
       "DatetimeIndex(['2020-09-14', '2020-09-21', '2020-09-28', '2020-10-05',\n",
       "               '2020-10-12', '2020-10-19', '2020-10-26', '2020-11-02',\n",
       "               '2020-11-09', '2020-11-16', '2020-11-23', '2020-11-30',\n",
       "               '2020-12-07', '2020-12-14', '2020-12-21', '2020-12-28',\n",
       "               '2021-01-04', '2021-01-11', '2021-01-18', '2021-01-25'],\n",
       "              dtype='datetime64[ns]', freq='W-MON')"
      ]
     },
     "execution_count": 34,
     "metadata": {},
     "output_type": "execute_result"
    }
   ],
   "source": [
    "date_list_new"
   ]
  },
  {
   "cell_type": "code",
   "execution_count": 39,
   "id": "5970a090",
   "metadata": {},
   "outputs": [],
   "source": [
    "s2 = Series(np.random.rand(20), index=date_list_new)"
   ]
  },
  {
   "cell_type": "code",
   "execution_count": null,
   "id": "92407415",
   "metadata": {},
   "outputs": [],
   "source": []
  }
 ],
 "metadata": {
  "kernelspec": {
   "display_name": "Python 3",
   "language": "python",
   "name": "python3"
  },
  "language_info": {
   "codemirror_mode": {
    "name": "ipython",
    "version": 3
   },
   "file_extension": ".py",
   "mimetype": "text/x-python",
   "name": "python",
   "nbconvert_exporter": "python",
   "pygments_lexer": "ipython3",
   "version": "3.8.8"
  }
 },
 "nbformat": 4,
 "nbformat_minor": 5
}
